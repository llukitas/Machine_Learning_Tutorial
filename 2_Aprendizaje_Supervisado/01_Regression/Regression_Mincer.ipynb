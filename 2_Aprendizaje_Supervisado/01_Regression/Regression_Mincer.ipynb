{
 "cells": [
  {
   "attachments": {},
   "cell_type": "markdown",
   "metadata": {},
   "source": [
    "## Modelo Minceriano ENAHO 2022 \n"
   ]
  },
  {
   "attachments": {},
   "cell_type": "markdown",
   "metadata": {},
   "source": [
    "**Autor** : Lucas Morales Luis Gerardo"
   ]
  },
  {
   "attachments": {},
   "cell_type": "markdown",
   "metadata": {},
   "source": [
    "El modelo de Mincer ha sido ampliamente utilizado en la literatura para estimar los determinantes de los salarios. El modelo en cuestion tiene como objetivo explicar el logaritmo del salario de los trabajadores en funcion de la edad, el genero, localizacion, educacion, entre\n",
    "otras variables\n",
    "\n",
    "$$ln\\left(Yl_i\\right) = \\beta X_i+ \\delta P_i+u_i$$ "
   ]
  },
  {
   "cell_type": "code",
   "execution_count": 18,
   "metadata": {},
   "outputs": [],
   "source": [
    "# librerias\n",
    "import warnings\n",
    "warnings.filterwarnings('ignore')\n",
    "import pandas as pd\n",
    "import os\n",
    "import numpy as np\n",
    "import seaborn as sns \n",
    "import matplotlib.pyplot as plt\n",
    "%matplotlib inline"
   ]
  },
  {
   "cell_type": "code",
   "execution_count": 2,
   "metadata": {},
   "outputs": [
    {
     "name": "stdout",
     "output_type": "stream",
     "text": [
      "c:\\Users\\Lenovo\\Documents\\CURSOS\\Machine_Learning_Tutorial\\Machine_Learning_Tutorial\\01_Regression\n"
     ]
    }
   ],
   "source": [
    "# Ruta de trabajo\n",
    "ruta=os.getcwd()\n",
    "print(ruta)"
   ]
  },
  {
   "cell_type": "code",
   "execution_count": 40,
   "metadata": {},
   "outputs": [
    {
     "data": {
      "text/html": [
       "<div>\n",
       "<style scoped>\n",
       "    .dataframe tbody tr th:only-of-type {\n",
       "        vertical-align: middle;\n",
       "    }\n",
       "\n",
       "    .dataframe tbody tr th {\n",
       "        vertical-align: top;\n",
       "    }\n",
       "\n",
       "    .dataframe thead th {\n",
       "        text-align: right;\n",
       "    }\n",
       "</style>\n",
       "<table border=\"1\" class=\"dataframe\">\n",
       "  <thead>\n",
       "    <tr style=\"text-align: right;\">\n",
       "      <th></th>\n",
       "      <th>aÑo</th>\n",
       "      <th>mes</th>\n",
       "      <th>conglome</th>\n",
       "      <th>vivienda</th>\n",
       "      <th>hogar</th>\n",
       "      <th>codperso</th>\n",
       "      <th>ubigeo</th>\n",
       "      <th>dominio</th>\n",
       "      <th>estrato</th>\n",
       "      <th>p201p</th>\n",
       "      <th>...</th>\n",
       "      <th>p301b3</th>\n",
       "      <th>m300</th>\n",
       "      <th>m3001</th>\n",
       "      <th>sexo</th>\n",
       "      <th>educ</th>\n",
       "      <th>ing_lab</th>\n",
       "      <th>ing_lab_mensual</th>\n",
       "      <th>ling_lab_mensual</th>\n",
       "      <th>exper</th>\n",
       "      <th>exper2</th>\n",
       "    </tr>\n",
       "  </thead>\n",
       "  <tbody>\n",
       "    <tr>\n",
       "      <th>0</th>\n",
       "      <td>2022</td>\n",
       "      <td>10</td>\n",
       "      <td>015015</td>\n",
       "      <td>092</td>\n",
       "      <td>11</td>\n",
       "      <td>01</td>\n",
       "      <td>010101</td>\n",
       "      <td>sierra norte</td>\n",
       "      <td>de 20 000 a 49 999 habitantes</td>\n",
       "      <td>20220150150921101</td>\n",
       "      <td>...</td>\n",
       "      <td>NaN</td>\n",
       "      <td>Matched (3)</td>\n",
       "      <td>Matched (3)</td>\n",
       "      <td>Varon</td>\n",
       "      <td>11.0</td>\n",
       "      <td>38481.0</td>\n",
       "      <td>3206.75</td>\n",
       "      <td>8.073013</td>\n",
       "      <td>15.0</td>\n",
       "      <td>225.0</td>\n",
       "    </tr>\n",
       "    <tr>\n",
       "      <th>1</th>\n",
       "      <td>2022</td>\n",
       "      <td>07</td>\n",
       "      <td>015012</td>\n",
       "      <td>019</td>\n",
       "      <td>11</td>\n",
       "      <td>02</td>\n",
       "      <td>010101</td>\n",
       "      <td>sierra norte</td>\n",
       "      <td>de 20 000 a 49 999 habitantes</td>\n",
       "      <td>20200150120191102</td>\n",
       "      <td>...</td>\n",
       "      <td>NaN</td>\n",
       "      <td>Matched (3)</td>\n",
       "      <td>Matched (3)</td>\n",
       "      <td>Mujer</td>\n",
       "      <td>6.0</td>\n",
       "      <td>17353.941</td>\n",
       "      <td>1446.1617</td>\n",
       "      <td>7.276668</td>\n",
       "      <td>23.0</td>\n",
       "      <td>529.0</td>\n",
       "    </tr>\n",
       "    <tr>\n",
       "      <th>2</th>\n",
       "      <td>2022</td>\n",
       "      <td>08</td>\n",
       "      <td>015002</td>\n",
       "      <td>002</td>\n",
       "      <td>11</td>\n",
       "      <td>04</td>\n",
       "      <td>010101</td>\n",
       "      <td>sierra norte</td>\n",
       "      <td>de 20 000 a 49 999 habitantes</td>\n",
       "      <td>20220150020021104</td>\n",
       "      <td>...</td>\n",
       "      <td>1.0</td>\n",
       "      <td>Matched (3)</td>\n",
       "      <td>Matched (3)</td>\n",
       "      <td>Varon</td>\n",
       "      <td>11.0</td>\n",
       "      <td>2404.0</td>\n",
       "      <td>200.33333</td>\n",
       "      <td>5.2999825</td>\n",
       "      <td>2.0</td>\n",
       "      <td>4.0</td>\n",
       "    </tr>\n",
       "    <tr>\n",
       "      <th>3</th>\n",
       "      <td>2022</td>\n",
       "      <td>03</td>\n",
       "      <td>015080</td>\n",
       "      <td>041</td>\n",
       "      <td>11</td>\n",
       "      <td>01</td>\n",
       "      <td>010101</td>\n",
       "      <td>sierra norte</td>\n",
       "      <td>area de empadronamiento rural (aer) simple</td>\n",
       "      <td>20220150800411101</td>\n",
       "      <td>...</td>\n",
       "      <td>NaN</td>\n",
       "      <td>Matched (3)</td>\n",
       "      <td>Matched (3)</td>\n",
       "      <td>Varon</td>\n",
       "      <td>11.0</td>\n",
       "      <td>12762.0</td>\n",
       "      <td>1063.5</td>\n",
       "      <td>6.969321</td>\n",
       "      <td>8.0</td>\n",
       "      <td>64.0</td>\n",
       "    </tr>\n",
       "  </tbody>\n",
       "</table>\n",
       "<p>4 rows × 1475 columns</p>\n",
       "</div>"
      ],
      "text/plain": [
       "    aÑo mes conglome vivienda hogar codperso  ubigeo       dominio  \\\n",
       "0  2022  10   015015      092    11       01  010101  sierra norte   \n",
       "1  2022  07   015012      019    11       02  010101  sierra norte   \n",
       "2  2022  08   015002      002    11       04  010101  sierra norte   \n",
       "3  2022  03   015080      041    11       01  010101  sierra norte   \n",
       "\n",
       "                                       estrato              p201p  ... p301b3  \\\n",
       "0                de 20 000 a 49 999 habitantes  20220150150921101  ...    NaN   \n",
       "1                de 20 000 a 49 999 habitantes  20200150120191102  ...    NaN   \n",
       "2                de 20 000 a 49 999 habitantes  20220150020021104  ...    1.0   \n",
       "3   area de empadronamiento rural (aer) simple  20220150800411101  ...    NaN   \n",
       "\n",
       "          m300        m3001   sexo  educ    ing_lab ing_lab_mensual  \\\n",
       "0  Matched (3)  Matched (3)  Varon  11.0    38481.0         3206.75   \n",
       "1  Matched (3)  Matched (3)  Mujer   6.0  17353.941       1446.1617   \n",
       "2  Matched (3)  Matched (3)  Varon  11.0     2404.0       200.33333   \n",
       "3  Matched (3)  Matched (3)  Varon  11.0    12762.0          1063.5   \n",
       "\n",
       "  ling_lab_mensual exper exper2  \n",
       "0         8.073013  15.0  225.0  \n",
       "1         7.276668  23.0  529.0  \n",
       "2        5.2999825   2.0    4.0  \n",
       "3         6.969321   8.0   64.0  \n",
       "\n",
       "[4 rows x 1475 columns]"
      ]
     },
     "execution_count": 40,
     "metadata": {},
     "output_type": "execute_result"
    }
   ],
   "source": [
    "df_enaho2022=pd.read_csv('c:/Users/Lenovo/Documents/CURSOS/Machine_Learning_Tutorial/00_Data/enaho2022.csv',sep=\",\",dtype=str)\n",
    "df_enaho2022.head(4)"
   ]
  },
  {
   "cell_type": "code",
   "execution_count": 42,
   "metadata": {},
   "outputs": [
    {
     "data": {
      "text/html": [
       "<div>\n",
       "<style scoped>\n",
       "    .dataframe tbody tr th:only-of-type {\n",
       "        vertical-align: middle;\n",
       "    }\n",
       "\n",
       "    .dataframe tbody tr th {\n",
       "        vertical-align: top;\n",
       "    }\n",
       "\n",
       "    .dataframe thead th {\n",
       "        text-align: right;\n",
       "    }\n",
       "</style>\n",
       "<table border=\"1\" class=\"dataframe\">\n",
       "  <thead>\n",
       "    <tr style=\"text-align: right;\">\n",
       "      <th></th>\n",
       "      <th>ing_lab_mensual</th>\n",
       "      <th>ling_lab_mensual</th>\n",
       "      <th>educ</th>\n",
       "      <th>edad</th>\n",
       "      <th>sexo</th>\n",
       "      <th>dominio</th>\n",
       "      <th>exper</th>\n",
       "    </tr>\n",
       "  </thead>\n",
       "  <tbody>\n",
       "    <tr>\n",
       "      <th>0</th>\n",
       "      <td>3206.75</td>\n",
       "      <td>8.073013</td>\n",
       "      <td>11.0</td>\n",
       "      <td>32</td>\n",
       "      <td>Varon</td>\n",
       "      <td>sierra norte</td>\n",
       "      <td>15.0</td>\n",
       "    </tr>\n",
       "    <tr>\n",
       "      <th>1</th>\n",
       "      <td>1446.1617</td>\n",
       "      <td>7.276668</td>\n",
       "      <td>6.0</td>\n",
       "      <td>35</td>\n",
       "      <td>Mujer</td>\n",
       "      <td>sierra norte</td>\n",
       "      <td>23.0</td>\n",
       "    </tr>\n",
       "    <tr>\n",
       "      <th>2</th>\n",
       "      <td>200.33333</td>\n",
       "      <td>5.2999825</td>\n",
       "      <td>11.0</td>\n",
       "      <td>19</td>\n",
       "      <td>Varon</td>\n",
       "      <td>sierra norte</td>\n",
       "      <td>2.0</td>\n",
       "    </tr>\n",
       "    <tr>\n",
       "      <th>3</th>\n",
       "      <td>1063.5</td>\n",
       "      <td>6.969321</td>\n",
       "      <td>11.0</td>\n",
       "      <td>25</td>\n",
       "      <td>Varon</td>\n",
       "      <td>sierra norte</td>\n",
       "      <td>8.0</td>\n",
       "    </tr>\n",
       "    <tr>\n",
       "      <th>4</th>\n",
       "      <td>3119.0833</td>\n",
       "      <td>8.045295</td>\n",
       "      <td>16.0</td>\n",
       "      <td>47</td>\n",
       "      <td>Mujer</td>\n",
       "      <td>sierra norte</td>\n",
       "      <td>25.0</td>\n",
       "    </tr>\n",
       "  </tbody>\n",
       "</table>\n",
       "</div>"
      ],
      "text/plain": [
       "  ing_lab_mensual ling_lab_mensual  educ edad   sexo       dominio exper\n",
       "0         3206.75         8.073013  11.0   32  Varon  sierra norte  15.0\n",
       "1       1446.1617         7.276668   6.0   35  Mujer  sierra norte  23.0\n",
       "2       200.33333        5.2999825  11.0   19  Varon  sierra norte   2.0\n",
       "3          1063.5         6.969321  11.0   25  Varon  sierra norte   8.0\n",
       "4       3119.0833         8.045295  16.0   47  Mujer  sierra norte  25.0"
      ]
     },
     "execution_count": 42,
     "metadata": {},
     "output_type": "execute_result"
    }
   ],
   "source": [
    "df_mincer=df_enaho2022[[\"ing_lab_mensual\",\"ling_lab_mensual\",\"educ\",\"edad\",\"sexo\",\"dominio\",\"exper\"]]\n",
    "df_mincer.head()"
   ]
  },
  {
   "cell_type": "code",
   "execution_count": 43,
   "metadata": {},
   "outputs": [
    {
     "data": {
      "text/plain": [
       "{object: ['ing_lab_mensual', 'ling_lab_mensual', 'educ', 'edad', 'sexo', 'dominio', 'exper']}"
      ]
     },
     "execution_count": 43,
     "metadata": {},
     "output_type": "execute_result"
    }
   ],
   "source": [
    "# Viendo las variables por tipo de datos\n",
    "tipos = df_mincer.columns.to_series().groupby(df_mincer.dtypes).groups\n",
    "tipos"
   ]
  },
  {
   "cell_type": "code",
   "execution_count": 44,
   "metadata": {},
   "outputs": [
    {
     "name": "stdout",
     "output_type": "stream",
     "text": [
      "<class 'pandas.core.frame.DataFrame'>\n",
      "RangeIndex: 53231 entries, 0 to 53230\n",
      "Data columns (total 7 columns):\n",
      " #   Column            Non-Null Count  Dtype \n",
      "---  ------            --------------  ----- \n",
      " 0   ing_lab_mensual   53231 non-null  object\n",
      " 1   ling_lab_mensual  53231 non-null  object\n",
      " 2   educ              53217 non-null  object\n",
      " 3   edad              53231 non-null  object\n",
      " 4   sexo              53231 non-null  object\n",
      " 5   dominio           53231 non-null  object\n",
      " 6   exper             53217 non-null  object\n",
      "dtypes: object(7)\n",
      "memory usage: 2.8+ MB\n"
     ]
    }
   ],
   "source": [
    "df_mincer.info()"
   ]
  },
  {
   "cell_type": "code",
   "execution_count": 45,
   "metadata": {},
   "outputs": [],
   "source": [
    "df_mincer['ing_lab_mensual'] = pd.to_numeric(df_mincer['ing_lab_mensual'])\n",
    "df_mincer['ling_lab_mensual'] = pd.to_numeric(df_mincer['ling_lab_mensual'])\n",
    "# educ\tedad exper\n",
    "df_mincer[\"educ\"] = df_mincer[\"educ\"].astype(float)\n",
    "df_mincer[\"edad\"] = df_mincer[\"edad\"].astype(float)\n",
    "df_mincer[\"exper\"] = df_mincer[\"exper\"].astype(float)"
   ]
  },
  {
   "cell_type": "code",
   "execution_count": 46,
   "metadata": {},
   "outputs": [
    {
     "name": "stdout",
     "output_type": "stream",
     "text": [
      "Valores perdidos por columna\n",
      "ing_lab_mensual      0\n",
      "ling_lab_mensual     0\n",
      "educ                14\n",
      "edad                 0\n",
      "sexo                 0\n",
      "dominio              0\n",
      "exper               14\n",
      "dtype: int64\n"
     ]
    }
   ],
   "source": [
    "# Revisar los valores perdidos\n",
    "#Creamos una función:\n",
    "def num_missing(x):\n",
    "  return sum(x.isnull())\n",
    "\n",
    "#Aplicamos por columna:\n",
    "print (\"Valores perdidos por columna\")\n",
    "print (df_mincer.apply(num_missing, axis=0))"
   ]
  },
  {
   "cell_type": "code",
   "execution_count": 47,
   "metadata": {},
   "outputs": [],
   "source": [
    "## Eliminar valores NA\n",
    "datareg = df_mincer.dropna()"
   ]
  },
  {
   "cell_type": "code",
   "execution_count": 48,
   "metadata": {},
   "outputs": [
    {
     "name": "stdout",
     "output_type": "stream",
     "text": [
      "Valores perdidos por columna\n",
      "ing_lab_mensual     0\n",
      "ling_lab_mensual    0\n",
      "educ                0\n",
      "edad                0\n",
      "sexo                0\n",
      "dominio             0\n",
      "exper               0\n",
      "dtype: int64\n"
     ]
    }
   ],
   "source": [
    "# Revisar los valores perdidos\n",
    "#Creamos una función:\n",
    "def num_missing(x):\n",
    "  return sum(x.isnull())\n",
    "\n",
    "#Aplicamos por columna:\n",
    "print (\"Valores perdidos por columna\")\n",
    "print (datareg.apply(num_missing, axis=0))"
   ]
  },
  {
   "cell_type": "code",
   "execution_count": 60,
   "metadata": {},
   "outputs": [
    {
     "data": {
      "text/plain": [
       "<seaborn.axisgrid.PairGrid at 0x1e39ea02048>"
      ]
     },
     "execution_count": 60,
     "metadata": {},
     "output_type": "execute_result"
    },
    {
     "data": {
      "image/png": "[encoded data removed]",
      "text/plain": [
       "<Figure size 750x250 with 3 Axes>"
      ]
     },
     "metadata": {},
     "output_type": "display_data"
    }
   ],
   "source": [
    "sns.pairplot(datareg,x_vars=[\"educ\",\"edad\",\"exper\"],y_vars='ling_lab_mensual')"
   ]
  },
  {
   "cell_type": "code",
   "execution_count": 61,
   "metadata": {},
   "outputs": [
    {
     "data": {
      "text/plain": [
       "<matplotlib.axes._subplots.AxesSubplot at 0x1e3a03aa4c8>"
      ]
     },
     "execution_count": 61,
     "metadata": {},
     "output_type": "execute_result"
    },
    {
     "data": {
      "image/png": "[encoded data removed]",
      "text/plain": [
       "<Figure size 1300x700 with 1 Axes>"
      ]
     },
     "metadata": {},
     "output_type": "display_data"
    }
   ],
   "source": [
    "plt.figure(figsize=(13, 7))\n",
    "sns.boxplot(x='dominio',y='ling_lab_mensual',data=datareg,palette='winter')"
   ]
  },
  {
   "cell_type": "code",
   "execution_count": 62,
   "metadata": {},
   "outputs": [
    {
     "data": {
      "text/plain": [
       "<matplotlib.axes._subplots.AxesSubplot at 0x1e39b141448>"
      ]
     },
     "execution_count": 62,
     "metadata": {},
     "output_type": "execute_result"
    },
    {
     "data": {
      "image/png": "[encoded data removed]",
      "text/plain": [
       "<Figure size 700x500 with 1 Axes>"
      ]
     },
     "metadata": {},
     "output_type": "display_data"
    }
   ],
   "source": [
    "plt.figure(figsize=(7, 5))\n",
    "sns.boxplot(x='sexo',y='ling_lab_mensual',data=datareg,palette='winter')"
   ]
  },
  {
   "cell_type": "code",
   "execution_count": 63,
   "metadata": {},
   "outputs": [
    {
     "data": {
      "text/plain": [
       "Intercept    0.0\n",
       "educ         0.0\n",
       "edad         0.0\n",
       "exper        0.0\n",
       "dtype: float64"
      ]
     },
     "execution_count": 63,
     "metadata": {},
     "output_type": "execute_result"
    }
   ],
   "source": [
    "import statsmodels.formula.api as smf\n",
    "lm = smf.ols(formula='ling_lab_mensual ~ educ + edad + exper', data=datareg).fit()\n",
    "lm.pvalues"
   ]
  },
  {
   "attachments": {},
   "cell_type": "markdown",
   "metadata": {},
   "source": [
    "$$ln\\left(Yl_i\\right) = 0.4122 -0.7516*educ_i+ 0.8623*edad_i-0.8590*exper_i+u_i$$ "
   ]
  },
  {
   "cell_type": "code",
   "execution_count": 64,
   "metadata": {},
   "outputs": [
    {
     "data": {
      "text/html": [
       "<table class=\"simpletable\">\n",
       "<caption>OLS Regression Results</caption>\n",
       "<tr>\n",
       "  <th>Dep. Variable:</th>    <td>ling_lab_mensual</td> <th>  R-squared:         </th> <td>   0.170</td> \n",
       "</tr>\n",
       "<tr>\n",
       "  <th>Model:</th>                   <td>OLS</td>       <th>  Adj. R-squared:    </th> <td>   0.170</td> \n",
       "</tr>\n",
       "<tr>\n",
       "  <th>Method:</th>             <td>Least Squares</td>  <th>  F-statistic:       </th> <td>   3644.</td> \n",
       "</tr>\n",
       "<tr>\n",
       "  <th>Date:</th>             <td>Wed, 21 Jun 2023</td> <th>  Prob (F-statistic):</th>  <td>  0.00</td>  \n",
       "</tr>\n",
       "<tr>\n",
       "  <th>Time:</th>                 <td>18:14:37</td>     <th>  Log-Likelihood:    </th> <td> -76510.</td> \n",
       "</tr>\n",
       "<tr>\n",
       "  <th>No. Observations:</th>      <td> 53217</td>      <th>  AIC:               </th> <td>1.530e+05</td>\n",
       "</tr>\n",
       "<tr>\n",
       "  <th>Df Residuals:</th>          <td> 53213</td>      <th>  BIC:               </th> <td>1.531e+05</td>\n",
       "</tr>\n",
       "<tr>\n",
       "  <th>Df Model:</th>              <td>     3</td>      <th>                     </th>     <td> </td>    \n",
       "</tr>\n",
       "<tr>\n",
       "  <th>Covariance Type:</th>      <td>nonrobust</td>    <th>                     </th>     <td> </td>    \n",
       "</tr>\n",
       "</table>\n",
       "<table class=\"simpletable\">\n",
       "<tr>\n",
       "      <td></td>         <th>coef</th>     <th>std err</th>      <th>t</th>      <th>P>|t|</th>  <th>[0.025</th>    <th>0.975]</th>  \n",
       "</tr>\n",
       "<tr>\n",
       "  <th>Intercept</th> <td>    0.4122</td> <td>    0.002</td> <td>  250.076</td> <td> 0.000</td> <td>    0.409</td> <td>    0.415</td>\n",
       "</tr>\n",
       "<tr>\n",
       "  <th>educ</th>      <td>   -0.7519</td> <td>    0.004</td> <td> -188.878</td> <td> 0.000</td> <td>   -0.760</td> <td>   -0.744</td>\n",
       "</tr>\n",
       "<tr>\n",
       "  <th>edad</th>      <td>    0.8623</td> <td>    0.003</td> <td>  303.305</td> <td> 0.000</td> <td>    0.857</td> <td>    0.868</td>\n",
       "</tr>\n",
       "<tr>\n",
       "  <th>exper</th>     <td>   -0.8590</td> <td>    0.003</td> <td> -277.422</td> <td> 0.000</td> <td>   -0.865</td> <td>   -0.853</td>\n",
       "</tr>\n",
       "</table>\n",
       "<table class=\"simpletable\">\n",
       "<tr>\n",
       "  <th>Omnibus:</th>       <td>6938.322</td> <th>  Durbin-Watson:     </th> <td>   1.912</td> \n",
       "</tr>\n",
       "<tr>\n",
       "  <th>Prob(Omnibus):</th>  <td> 0.000</td>  <th>  Jarque-Bera (JB):  </th> <td>12487.482</td>\n",
       "</tr>\n",
       "<tr>\n",
       "  <th>Skew:</th>           <td>-0.860</td>  <th>  Prob(JB):          </th> <td>    0.00</td> \n",
       "</tr>\n",
       "<tr>\n",
       "  <th>Kurtosis:</th>       <td> 4.635</td>  <th>  Cond. No.          </th> <td>1.05e+15</td> \n",
       "</tr>\n",
       "</table><br/><br/>Notes:<br/>[1] Standard Errors assume that the covariance matrix of the errors is correctly specified.<br/>[2] The smallest eigenvalue is 1.6e-22. This might indicate that there are<br/>strong multicollinearity problems or that the design matrix is singular."
      ],
      "text/plain": [
       "<class 'statsmodels.iolib.summary.Summary'>\n",
       "\"\"\"\n",
       "                            OLS Regression Results                            \n",
       "==============================================================================\n",
       "Dep. Variable:       ling_lab_mensual   R-squared:                       0.170\n",
       "Model:                            OLS   Adj. R-squared:                  0.170\n",
       "Method:                 Least Squares   F-statistic:                     3644.\n",
       "Date:                Wed, 21 Jun 2023   Prob (F-statistic):               0.00\n",
       "Time:                        18:14:37   Log-Likelihood:                -76510.\n",
       "No. Observations:               53217   AIC:                         1.530e+05\n",
       "Df Residuals:                   53213   BIC:                         1.531e+05\n",
       "Df Model:                           3                                         \n",
       "Covariance Type:            nonrobust                                         \n",
       "==============================================================================\n",
       "                 coef    std err          t      P>|t|      [0.025      0.975]\n",
       "------------------------------------------------------------------------------\n",
       "Intercept      0.4122      0.002    250.076      0.000       0.409       0.415\n",
       "educ          -0.7519      0.004   -188.878      0.000      -0.760      -0.744\n",
       "edad           0.8623      0.003    303.305      0.000       0.857       0.868\n",
       "exper         -0.8590      0.003   -277.422      0.000      -0.865      -0.853\n",
       "==============================================================================\n",
       "Omnibus:                     6938.322   Durbin-Watson:                   1.912\n",
       "Prob(Omnibus):                  0.000   Jarque-Bera (JB):            12487.482\n",
       "Skew:                          -0.860   Prob(JB):                         0.00\n",
       "Kurtosis:                       4.635   Cond. No.                     1.05e+15\n",
       "==============================================================================\n",
       "\n",
       "Notes:\n",
       "[1] Standard Errors assume that the covariance matrix of the errors is correctly specified.\n",
       "[2] The smallest eigenvalue is 1.6e-22. This might indicate that there are\n",
       "strong multicollinearity problems or that the design matrix is singular.\n",
       "\"\"\""
      ]
     },
     "execution_count": 64,
     "metadata": {},
     "output_type": "execute_result"
    }
   ],
   "source": [
    "lm.summary()"
   ]
  },
  {
   "attachments": {},
   "cell_type": "markdown",
   "metadata": {},
   "source": [
    "#### presenta multicolinelaidad"
   ]
  },
  {
   "cell_type": "code",
   "execution_count": 78,
   "metadata": {},
   "outputs": [
    {
     "data": {
      "text/html": [
       "<div>\n",
       "<style scoped>\n",
       "    .dataframe tbody tr th:only-of-type {\n",
       "        vertical-align: middle;\n",
       "    }\n",
       "\n",
       "    .dataframe tbody tr th {\n",
       "        vertical-align: top;\n",
       "    }\n",
       "\n",
       "    .dataframe thead th {\n",
       "        text-align: right;\n",
       "    }\n",
       "</style>\n",
       "<table border=\"1\" class=\"dataframe\">\n",
       "  <thead>\n",
       "    <tr style=\"text-align: right;\">\n",
       "      <th></th>\n",
       "      <th>ing_lab_mensual</th>\n",
       "      <th>ling_lab_mensual</th>\n",
       "      <th>educ</th>\n",
       "      <th>edad</th>\n",
       "      <th>sexo</th>\n",
       "      <th>dominio</th>\n",
       "      <th>exper</th>\n",
       "      <th>c_sexo</th>\n",
       "      <th>exper_2r</th>\n",
       "    </tr>\n",
       "  </thead>\n",
       "  <tbody>\n",
       "    <tr>\n",
       "      <th>0</th>\n",
       "      <td>3206.75000</td>\n",
       "      <td>8.073013</td>\n",
       "      <td>11.0</td>\n",
       "      <td>32.0</td>\n",
       "      <td>Varon</td>\n",
       "      <td>sierra norte</td>\n",
       "      <td>15.0</td>\n",
       "      <td>1</td>\n",
       "      <td>225.0</td>\n",
       "    </tr>\n",
       "    <tr>\n",
       "      <th>1</th>\n",
       "      <td>1446.16170</td>\n",
       "      <td>7.276668</td>\n",
       "      <td>6.0</td>\n",
       "      <td>35.0</td>\n",
       "      <td>Mujer</td>\n",
       "      <td>sierra norte</td>\n",
       "      <td>23.0</td>\n",
       "      <td>0</td>\n",
       "      <td>529.0</td>\n",
       "    </tr>\n",
       "    <tr>\n",
       "      <th>2</th>\n",
       "      <td>200.33333</td>\n",
       "      <td>5.299982</td>\n",
       "      <td>11.0</td>\n",
       "      <td>19.0</td>\n",
       "      <td>Varon</td>\n",
       "      <td>sierra norte</td>\n",
       "      <td>2.0</td>\n",
       "      <td>1</td>\n",
       "      <td>4.0</td>\n",
       "    </tr>\n",
       "    <tr>\n",
       "      <th>3</th>\n",
       "      <td>1063.50000</td>\n",
       "      <td>6.969321</td>\n",
       "      <td>11.0</td>\n",
       "      <td>25.0</td>\n",
       "      <td>Varon</td>\n",
       "      <td>sierra norte</td>\n",
       "      <td>8.0</td>\n",
       "      <td>1</td>\n",
       "      <td>64.0</td>\n",
       "    </tr>\n",
       "    <tr>\n",
       "      <th>4</th>\n",
       "      <td>3119.08330</td>\n",
       "      <td>8.045295</td>\n",
       "      <td>16.0</td>\n",
       "      <td>47.0</td>\n",
       "      <td>Mujer</td>\n",
       "      <td>sierra norte</td>\n",
       "      <td>25.0</td>\n",
       "      <td>0</td>\n",
       "      <td>625.0</td>\n",
       "    </tr>\n",
       "  </tbody>\n",
       "</table>\n",
       "</div>"
      ],
      "text/plain": [
       "   ing_lab_mensual  ling_lab_mensual  educ  edad   sexo       dominio  exper  \\\n",
       "0       3206.75000          8.073013  11.0  32.0  Varon  sierra norte   15.0   \n",
       "1       1446.16170          7.276668   6.0  35.0  Mujer  sierra norte   23.0   \n",
       "2        200.33333          5.299982  11.0  19.0  Varon  sierra norte    2.0   \n",
       "3       1063.50000          6.969321  11.0  25.0  Varon  sierra norte    8.0   \n",
       "4       3119.08330          8.045295  16.0  47.0  Mujer  sierra norte   25.0   \n",
       "\n",
       "   c_sexo  exper_2r  \n",
       "0       1     225.0  \n",
       "1       0     529.0  \n",
       "2       1       4.0  \n",
       "3       1      64.0  \n",
       "4       0     625.0  "
      ]
     },
     "execution_count": 78,
     "metadata": {},
     "output_type": "execute_result"
    }
   ],
   "source": [
    "## incluir el sexo por brecha salarial\n",
    "datareg[\"c_sexo\"] = datareg.sexo.map({'Mujer':0 ,'Varon':1})\n",
    "datareg[\"exper_2r\"] =datareg[\"exper\"] * datareg[\"exper\"]\n",
    "datareg.head()\n"
   ]
  },
  {
   "attachments": {},
   "cell_type": "markdown",
   "metadata": {},
   "source": [
    "$$ln\\left(Yl_i\\right) = 5.333+0.1052*educ_i+ 0.0031*edad_i+0.4584*sexo_i+u_i$$ "
   ]
  },
  {
   "cell_type": "code",
   "execution_count": 73,
   "metadata": {},
   "outputs": [
    {
     "data": {
      "text/html": [
       "<table class=\"simpletable\">\n",
       "<caption>OLS Regression Results</caption>\n",
       "<tr>\n",
       "  <th>Dep. Variable:</th>    <td>ling_lab_mensual</td> <th>  R-squared:         </th> <td>   0.212</td> \n",
       "</tr>\n",
       "<tr>\n",
       "  <th>Model:</th>                   <td>OLS</td>       <th>  Adj. R-squared:    </th> <td>   0.212</td> \n",
       "</tr>\n",
       "<tr>\n",
       "  <th>Method:</th>             <td>Least Squares</td>  <th>  F-statistic:       </th> <td>   4759.</td> \n",
       "</tr>\n",
       "<tr>\n",
       "  <th>Date:</th>             <td>Wed, 21 Jun 2023</td> <th>  Prob (F-statistic):</th>  <td>  0.00</td>  \n",
       "</tr>\n",
       "<tr>\n",
       "  <th>Time:</th>                 <td>18:30:49</td>     <th>  Log-Likelihood:    </th> <td> -75158.</td> \n",
       "</tr>\n",
       "<tr>\n",
       "  <th>No. Observations:</th>      <td> 53217</td>      <th>  AIC:               </th> <td>1.503e+05</td>\n",
       "</tr>\n",
       "<tr>\n",
       "  <th>Df Residuals:</th>          <td> 53213</td>      <th>  BIC:               </th> <td>1.504e+05</td>\n",
       "</tr>\n",
       "<tr>\n",
       "  <th>Df Model:</th>              <td>     3</td>      <th>                     </th>     <td> </td>    \n",
       "</tr>\n",
       "<tr>\n",
       "  <th>Covariance Type:</th>      <td>nonrobust</td>    <th>                     </th>     <td> </td>    \n",
       "</tr>\n",
       "</table>\n",
       "<table class=\"simpletable\">\n",
       "<tr>\n",
       "      <td></td>         <th>coef</th>     <th>std err</th>      <th>t</th>      <th>P>|t|</th>  <th>[0.025</th>    <th>0.975]</th>  \n",
       "</tr>\n",
       "<tr>\n",
       "  <th>Intercept</th> <td>    5.3333</td> <td>    0.020</td> <td>  263.963</td> <td> 0.000</td> <td>    5.294</td> <td>    5.373</td>\n",
       "</tr>\n",
       "<tr>\n",
       "  <th>educ</th>      <td>    0.1052</td> <td>    0.001</td> <td>  100.394</td> <td> 0.000</td> <td>    0.103</td> <td>    0.107</td>\n",
       "</tr>\n",
       "<tr>\n",
       "  <th>edad</th>      <td>    0.0031</td> <td>    0.000</td> <td>   10.584</td> <td> 0.000</td> <td>    0.003</td> <td>    0.004</td>\n",
       "</tr>\n",
       "<tr>\n",
       "  <th>c_sexo</th>    <td>    0.4584</td> <td>    0.009</td> <td>   52.669</td> <td> 0.000</td> <td>    0.441</td> <td>    0.475</td>\n",
       "</tr>\n",
       "</table>\n",
       "<table class=\"simpletable\">\n",
       "<tr>\n",
       "  <th>Omnibus:</th>       <td>6387.839</td> <th>  Durbin-Watson:     </th> <td>   1.897</td> \n",
       "</tr>\n",
       "<tr>\n",
       "  <th>Prob(Omnibus):</th>  <td> 0.000</td>  <th>  Jarque-Bera (JB):  </th> <td>11478.537</td>\n",
       "</tr>\n",
       "<tr>\n",
       "  <th>Skew:</th>           <td>-0.803</td>  <th>  Prob(JB):          </th> <td>    0.00</td> \n",
       "</tr>\n",
       "<tr>\n",
       "  <th>Kurtosis:</th>       <td> 4.612</td>  <th>  Cond. No.          </th> <td>    224.</td> \n",
       "</tr>\n",
       "</table><br/><br/>Notes:<br/>[1] Standard Errors assume that the covariance matrix of the errors is correctly specified."
      ],
      "text/plain": [
       "<class 'statsmodels.iolib.summary.Summary'>\n",
       "\"\"\"\n",
       "                            OLS Regression Results                            \n",
       "==============================================================================\n",
       "Dep. Variable:       ling_lab_mensual   R-squared:                       0.212\n",
       "Model:                            OLS   Adj. R-squared:                  0.212\n",
       "Method:                 Least Squares   F-statistic:                     4759.\n",
       "Date:                Wed, 21 Jun 2023   Prob (F-statistic):               0.00\n",
       "Time:                        18:30:49   Log-Likelihood:                -75158.\n",
       "No. Observations:               53217   AIC:                         1.503e+05\n",
       "Df Residuals:                   53213   BIC:                         1.504e+05\n",
       "Df Model:                           3                                         \n",
       "Covariance Type:            nonrobust                                         \n",
       "==============================================================================\n",
       "                 coef    std err          t      P>|t|      [0.025      0.975]\n",
       "------------------------------------------------------------------------------\n",
       "Intercept      5.3333      0.020    263.963      0.000       5.294       5.373\n",
       "educ           0.1052      0.001    100.394      0.000       0.103       0.107\n",
       "edad           0.0031      0.000     10.584      0.000       0.003       0.004\n",
       "c_sexo         0.4584      0.009     52.669      0.000       0.441       0.475\n",
       "==============================================================================\n",
       "Omnibus:                     6387.839   Durbin-Watson:                   1.897\n",
       "Prob(Omnibus):                  0.000   Jarque-Bera (JB):            11478.537\n",
       "Skew:                          -0.803   Prob(JB):                         0.00\n",
       "Kurtosis:                       4.612   Cond. No.                         224.\n",
       "==============================================================================\n",
       "\n",
       "Notes:\n",
       "[1] Standard Errors assume that the covariance matrix of the errors is correctly specified.\n",
       "\"\"\""
      ]
     },
     "execution_count": 73,
     "metadata": {},
     "output_type": "execute_result"
    }
   ],
   "source": [
    "lm2 = smf.ols(formula='ling_lab_mensual ~ educ + edad + c_sexo', data=datareg).fit()\n",
    "lm2.summary()"
   ]
  },
  {
   "attachments": {},
   "cell_type": "markdown",
   "metadata": {},
   "source": [
    "Estos resultados se asemejan a los hallados en Stata."
   ]
  },
  {
   "attachments": {},
   "cell_type": "markdown",
   "metadata": {},
   "source": [
    "### Con sklearn"
   ]
  },
  {
   "cell_type": "code",
   "execution_count": null,
   "metadata": {},
   "outputs": [],
   "source": [
    "# 5. Escalar los datos\n",
    "'''\n",
    "En este caso no es necesario porque sklearn ya se encarga.\n",
    "\n",
    "escaladorX = MinMaxScaler()\n",
    "X_train = escaladorX.fit_transform(X_train)\n",
    "X_test  = escaladorX.transform(X_test)\n",
    "\n",
    "escaladorY = MinMaxScaler()\n",
    "y_train = escaladorY.fit_transform(y_train)\n",
    "y_test  = escaladorY.transform(y_test)\n",
    "'''"
   ]
  },
  {
   "cell_type": "code",
   "execution_count": 74,
   "metadata": {},
   "outputs": [
    {
     "data": {
      "text/plain": [
       "LinearRegression()"
      ]
     },
     "execution_count": 74,
     "metadata": {},
     "output_type": "execute_result"
    }
   ],
   "source": [
    "# create X and y\n",
    "feature_cols = ['educ' ,'edad' , 'c_sexo']\n",
    "X = datareg[feature_cols]\n",
    "y = datareg.ling_lab_mensual\n",
    "# follow the usual sklearn pattern: import, instantiate, fit\n",
    "from sklearn.linear_model import LinearRegression\n",
    "from sklearn.linear_model import SGDRegressor\n",
    "# instantiate, fit\n",
    "lmg = LinearRegression()\n",
    "lmg.fit(X, y)"
   ]
  },
  {
   "cell_type": "code",
   "execution_count": 75,
   "metadata": {},
   "outputs": [
    {
     "name": "stdout",
     "output_type": "stream",
     "text": [
      "5.333295825385091\n",
      "[0.10516285 0.00309911 0.45836567]\n"
     ]
    }
   ],
   "source": [
    "# print the intercept and coefficients\n",
    "print(lmg.intercept_)\n",
    "print(lmg.coef_)"
   ]
  },
  {
   "cell_type": "code",
   "execution_count": 76,
   "metadata": {},
   "outputs": [
    {
     "data": {
      "text/plain": [
       "[('educ', 0.10516285458398117),\n",
       " ('edad', 0.003099109739066622),\n",
       " ('c_sexo', 0.45836566539422513)]"
      ]
     },
     "execution_count": 76,
     "metadata": {},
     "output_type": "execute_result"
    }
   ],
   "source": [
    "# pair the feature names with the coefficients\n",
    "list(zip(feature_cols, lmg.coef_))"
   ]
  },
  {
   "cell_type": "code",
   "execution_count": 77,
   "metadata": {},
   "outputs": [
    {
     "name": "stdout",
     "output_type": "stream",
     "text": [
      "['educ', 'edad', 'c_sexo'] [0.10516285 0.00309911 0.45836567]\n"
     ]
    }
   ],
   "source": [
    "print(feature_cols, lmg.coef_)"
   ]
  },
  {
   "attachments": {},
   "cell_type": "markdown",
   "metadata": {},
   "source": [
    "### Inclusion del dominio como variable Dummy"
   ]
  },
  {
   "cell_type": "code",
   "execution_count": 79,
   "metadata": {},
   "outputs": [
    {
     "data": {
      "text/html": [
       "<div>\n",
       "<style scoped>\n",
       "    .dataframe tbody tr th:only-of-type {\n",
       "        vertical-align: middle;\n",
       "    }\n",
       "\n",
       "    .dataframe tbody tr th {\n",
       "        vertical-align: top;\n",
       "    }\n",
       "\n",
       "    .dataframe thead th {\n",
       "        text-align: right;\n",
       "    }\n",
       "</style>\n",
       "<table border=\"1\" class=\"dataframe\">\n",
       "  <thead>\n",
       "    <tr style=\"text-align: right;\">\n",
       "      <th></th>\n",
       "      <th>ing_lab_mensual</th>\n",
       "      <th>ling_lab_mensual</th>\n",
       "      <th>educ</th>\n",
       "      <th>edad</th>\n",
       "      <th>sexo</th>\n",
       "      <th>dominio</th>\n",
       "      <th>exper</th>\n",
       "      <th>c_sexo</th>\n",
       "      <th>exper_2r</th>\n",
       "      <th>dominio_costa norte</th>\n",
       "      <th>dominio_costa sur</th>\n",
       "      <th>dominio_lima metropolitana</th>\n",
       "      <th>dominio_selva</th>\n",
       "      <th>dominio_sierra centro</th>\n",
       "      <th>dominio_sierra norte</th>\n",
       "      <th>dominio_sierra sur</th>\n",
       "    </tr>\n",
       "  </thead>\n",
       "  <tbody>\n",
       "    <tr>\n",
       "      <th>0</th>\n",
       "      <td>3206.75000</td>\n",
       "      <td>8.073013</td>\n",
       "      <td>11.0</td>\n",
       "      <td>32.0</td>\n",
       "      <td>Varon</td>\n",
       "      <td>sierra norte</td>\n",
       "      <td>15.0</td>\n",
       "      <td>1</td>\n",
       "      <td>225.0</td>\n",
       "      <td>0</td>\n",
       "      <td>0</td>\n",
       "      <td>0</td>\n",
       "      <td>0</td>\n",
       "      <td>0</td>\n",
       "      <td>1</td>\n",
       "      <td>0</td>\n",
       "    </tr>\n",
       "    <tr>\n",
       "      <th>1</th>\n",
       "      <td>1446.16170</td>\n",
       "      <td>7.276668</td>\n",
       "      <td>6.0</td>\n",
       "      <td>35.0</td>\n",
       "      <td>Mujer</td>\n",
       "      <td>sierra norte</td>\n",
       "      <td>23.0</td>\n",
       "      <td>0</td>\n",
       "      <td>529.0</td>\n",
       "      <td>0</td>\n",
       "      <td>0</td>\n",
       "      <td>0</td>\n",
       "      <td>0</td>\n",
       "      <td>0</td>\n",
       "      <td>1</td>\n",
       "      <td>0</td>\n",
       "    </tr>\n",
       "    <tr>\n",
       "      <th>2</th>\n",
       "      <td>200.33333</td>\n",
       "      <td>5.299982</td>\n",
       "      <td>11.0</td>\n",
       "      <td>19.0</td>\n",
       "      <td>Varon</td>\n",
       "      <td>sierra norte</td>\n",
       "      <td>2.0</td>\n",
       "      <td>1</td>\n",
       "      <td>4.0</td>\n",
       "      <td>0</td>\n",
       "      <td>0</td>\n",
       "      <td>0</td>\n",
       "      <td>0</td>\n",
       "      <td>0</td>\n",
       "      <td>1</td>\n",
       "      <td>0</td>\n",
       "    </tr>\n",
       "    <tr>\n",
       "      <th>3</th>\n",
       "      <td>1063.50000</td>\n",
       "      <td>6.969321</td>\n",
       "      <td>11.0</td>\n",
       "      <td>25.0</td>\n",
       "      <td>Varon</td>\n",
       "      <td>sierra norte</td>\n",
       "      <td>8.0</td>\n",
       "      <td>1</td>\n",
       "      <td>64.0</td>\n",
       "      <td>0</td>\n",
       "      <td>0</td>\n",
       "      <td>0</td>\n",
       "      <td>0</td>\n",
       "      <td>0</td>\n",
       "      <td>1</td>\n",
       "      <td>0</td>\n",
       "    </tr>\n",
       "    <tr>\n",
       "      <th>4</th>\n",
       "      <td>3119.08330</td>\n",
       "      <td>8.045295</td>\n",
       "      <td>16.0</td>\n",
       "      <td>47.0</td>\n",
       "      <td>Mujer</td>\n",
       "      <td>sierra norte</td>\n",
       "      <td>25.0</td>\n",
       "      <td>0</td>\n",
       "      <td>625.0</td>\n",
       "      <td>0</td>\n",
       "      <td>0</td>\n",
       "      <td>0</td>\n",
       "      <td>0</td>\n",
       "      <td>0</td>\n",
       "      <td>1</td>\n",
       "      <td>0</td>\n",
       "    </tr>\n",
       "  </tbody>\n",
       "</table>\n",
       "</div>"
      ],
      "text/plain": [
       "   ing_lab_mensual  ling_lab_mensual  educ  edad   sexo       dominio  exper  \\\n",
       "0       3206.75000          8.073013  11.0  32.0  Varon  sierra norte   15.0   \n",
       "1       1446.16170          7.276668   6.0  35.0  Mujer  sierra norte   23.0   \n",
       "2        200.33333          5.299982  11.0  19.0  Varon  sierra norte    2.0   \n",
       "3       1063.50000          6.969321  11.0  25.0  Varon  sierra norte    8.0   \n",
       "4       3119.08330          8.045295  16.0  47.0  Mujer  sierra norte   25.0   \n",
       "\n",
       "   c_sexo  exper_2r  dominio_costa norte  dominio_costa sur  \\\n",
       "0       1     225.0                    0                  0   \n",
       "1       0     529.0                    0                  0   \n",
       "2       1       4.0                    0                  0   \n",
       "3       1      64.0                    0                  0   \n",
       "4       0     625.0                    0                  0   \n",
       "\n",
       "   dominio_lima metropolitana  dominio_selva  dominio_sierra centro  \\\n",
       "0                           0              0                      0   \n",
       "1                           0              0                      0   \n",
       "2                           0              0                      0   \n",
       "3                           0              0                      0   \n",
       "4                           0              0                      0   \n",
       "\n",
       "   dominio_sierra norte  dominio_sierra sur  \n",
       "0                     1                   0  \n",
       "1                     1                   0  \n",
       "2                     1                   0  \n",
       "3                     1                   0  \n",
       "4                     1                   0  "
      ]
     },
     "execution_count": 79,
     "metadata": {},
     "output_type": "execute_result"
    }
   ],
   "source": [
    "# create three dummy variables using get_dummies, then exclude the first dummy column\n",
    "dominio_dummies = pd.get_dummies(datareg.dominio, prefix='dominio').iloc[:, 1:]\n",
    "# concatenate the dummy variable columns onto the original DataFrame (axis=0 means rows, axis=1 means columns)\n",
    "datareg = pd.concat([datareg, dominio_dummies], axis=1)\n",
    "datareg.head()"
   ]
  },
  {
   "attachments": {},
   "cell_type": "markdown",
   "metadata": {},
   "source": [
    "$$ln\\left(Yl_i\\right) = 5.13+u_i$$ "
   ]
  },
  {
   "cell_type": "code",
   "execution_count": 80,
   "metadata": {},
   "outputs": [
    {
     "data": {
      "text/plain": [
       "LinearRegression()"
      ]
     },
     "execution_count": 80,
     "metadata": {},
     "output_type": "execute_result"
    }
   ],
   "source": [
    "# create X and y\n",
    "feature_cols = ['educ' ,'edad' , 'c_sexo', 'exper_2r',\"dominio_costa norte\",\n",
    "                'dominio_costa sur',\t'dominio_lima metropolitana',\t'dominio_selva'\t,\n",
    "                'dominio_sierra centro',\t'dominio_sierra norte',\t'dominio_sierra sur' ]\n",
    "X = datareg[feature_cols]\n",
    "y = datareg.ling_lab_mensual\n",
    "# follow the usual sklearn pattern: import, instantiate, fit\n",
    "from sklearn.linear_model import LinearRegression\n",
    "from sklearn.linear_model import SGDRegressor\n",
    "# instantiate, fit\n",
    "lmg = LinearRegression()\n",
    "lmg.fit(X, y)"
   ]
  },
  {
   "cell_type": "code",
   "execution_count": 83,
   "metadata": {},
   "outputs": [
    {
     "name": "stdout",
     "output_type": "stream",
     "text": [
      "5.139160301986014\n",
      "[ 5.18471235e-02  3.63190524e-02  4.69512440e-01 -5.48081967e-04\n",
      " -1.19358805e-01 -1.14721727e-04  7.37879133e-02 -1.58591981e-01\n",
      " -3.25087008e-01 -3.64892287e-01 -1.56752599e-01]\n"
     ]
    }
   ],
   "source": [
    "# print the intercept and coefficients\n",
    "print(lmg.intercept_)\n",
    "print(lmg.coef_)"
   ]
  },
  {
   "cell_type": "code",
   "execution_count": 81,
   "metadata": {},
   "outputs": [
    {
     "name": "stdout",
     "output_type": "stream",
     "text": [
      "['educ', 'edad', 'c_sexo', 'exper_2r', 'dominio_costa norte', 'dominio_costa sur', 'dominio_lima metropolitana', 'dominio_selva', 'dominio_sierra centro', 'dominio_sierra norte', 'dominio_sierra sur'] [ 5.18471235e-02  3.63190524e-02  4.69512440e-01 -5.48081967e-04\n",
      " -1.19358805e-01 -1.14721727e-04  7.37879133e-02 -1.58591981e-01\n",
      " -3.25087008e-01 -3.64892287e-01 -1.56752599e-01]\n"
     ]
    }
   ],
   "source": [
    "# print coefficients\n",
    "print(feature_cols, lmg.coef_)"
   ]
  },
  {
   "cell_type": "code",
   "execution_count": 82,
   "metadata": {},
   "outputs": [
    {
     "data": {
      "text/plain": [
       "[('educ', 0.05184712346227523),\n",
       " ('edad', 0.03631905235178496),\n",
       " ('c_sexo', 0.4695124398099369),\n",
       " ('exper_2r', -0.0005480819665563477),\n",
       " ('dominio_costa norte', -0.11935880473913803),\n",
       " ('dominio_costa sur', -0.00011472172713946126),\n",
       " ('dominio_lima metropolitana', 0.07378791332379912),\n",
       " ('dominio_selva', -0.15859198062704516),\n",
       " ('dominio_sierra centro', -0.3250870081892115),\n",
       " ('dominio_sierra norte', -0.3648922870078292),\n",
       " ('dominio_sierra sur', -0.15675259939271197)]"
      ]
     },
     "execution_count": 82,
     "metadata": {},
     "output_type": "execute_result"
    }
   ],
   "source": [
    "# pair the feature names with the coefficients\n",
    "list(zip(feature_cols, lmg.coef_))"
   ]
  }
 ],
 "metadata": {
  "kernelspec": {
   "display_name": "Python 3",
   "language": "python",
   "name": "python3"
  },
  "language_info": {
   "codemirror_mode": {
    "name": "ipython",
    "version": 3
   },
   "file_extension": ".py",
   "mimetype": "text/x-python",
   "name": "python",
   "nbconvert_exporter": "python",
   "pygments_lexer": "ipython3",
   "version": "3.7.8"
  },
  "orig_nbformat": 4
 },
 "nbformat": 4,
 "nbformat_minor": 2
}
