{
 "cells": [
  {
   "attachments": {},
   "cell_type": "markdown",
   "metadata": {},
   "source": [
    "## Modelo Minceriano ENAHO 2022 \n"
   ]
  },
  {
   "attachments": {},
   "cell_type": "markdown",
   "metadata": {},
   "source": [
    "**Autor** : Lucas Morales Luis Gerardo"
   ]
  },
  {
   "attachments": {},
   "cell_type": "markdown",
   "metadata": {},
   "source": [
    "El modelo de Mincer ha sido ampliamente utilizado en la literatura para estimar los determinantes de los salarios. El modelo en cuestion tiene como objetivo explicar el logaritmo del salario de los trabajadores en funcion de la edad, el genero, localizacion, educacion, entre\n",
    "otras variables\n",
    "\n",
    "$$ln\\left(Yl_i\\right) = \\beta X_i+ \\delta P_i+u_i$$ "
   ]
  },
  {
   "cell_type": "code",
   "execution_count": 6,
   "metadata": {},
   "outputs": [],
   "source": [
    "# librerias\n",
    "import pandas as pd\n",
    "import os\n",
    "import numpy as np\n",
    "import seaborn as sns "
   ]
  },
  {
   "cell_type": "code",
   "execution_count": 2,
   "metadata": {},
   "outputs": [
    {
     "name": "stdout",
     "output_type": "stream",
     "text": [
      "c:\\Users\\Lenovo\\Documents\\CURSOS\\Machine_Learning_Tutorial\\Machine_Learning_Tutorial\\01_Regression\n"
     ]
    }
   ],
   "source": [
    "# Ruta de trabajo\n",
    "ruta=os.getcwd()\n",
    "print(ruta)"
   ]
  },
  {
   "cell_type": "code",
   "execution_count": 3,
   "metadata": {},
   "outputs": [
    {
     "data": {
      "text/html": [
       "<div>\n",
       "<style scoped>\n",
       "    .dataframe tbody tr th:only-of-type {\n",
       "        vertical-align: middle;\n",
       "    }\n",
       "\n",
       "    .dataframe tbody tr th {\n",
       "        vertical-align: top;\n",
       "    }\n",
       "\n",
       "    .dataframe thead th {\n",
       "        text-align: right;\n",
       "    }\n",
       "</style>\n",
       "<table border=\"1\" class=\"dataframe\">\n",
       "  <thead>\n",
       "    <tr style=\"text-align: right;\">\n",
       "      <th></th>\n",
       "      <th>aÑo</th>\n",
       "      <th>mes</th>\n",
       "      <th>conglome</th>\n",
       "      <th>vivienda</th>\n",
       "      <th>hogar</th>\n",
       "      <th>codperso</th>\n",
       "      <th>ubigeo</th>\n",
       "      <th>dominio</th>\n",
       "      <th>estrato</th>\n",
       "      <th>p201p</th>\n",
       "      <th>...</th>\n",
       "      <th>p301b3</th>\n",
       "      <th>m300</th>\n",
       "      <th>m3001</th>\n",
       "      <th>sexo</th>\n",
       "      <th>educ</th>\n",
       "      <th>ing_lab</th>\n",
       "      <th>ing_lab_mensual</th>\n",
       "      <th>ling_lab_mensual</th>\n",
       "      <th>exper</th>\n",
       "      <th>exper2</th>\n",
       "    </tr>\n",
       "  </thead>\n",
       "  <tbody>\n",
       "    <tr>\n",
       "      <th>0</th>\n",
       "      <td>2022</td>\n",
       "      <td>10</td>\n",
       "      <td>015015</td>\n",
       "      <td>092</td>\n",
       "      <td>11</td>\n",
       "      <td>01</td>\n",
       "      <td>010101</td>\n",
       "      <td>sierra norte</td>\n",
       "      <td>de 20 000 a 49 999 habitantes</td>\n",
       "      <td>20220150150921101</td>\n",
       "      <td>...</td>\n",
       "      <td>NaN</td>\n",
       "      <td>Matched (3)</td>\n",
       "      <td>Matched (3)</td>\n",
       "      <td>Varon</td>\n",
       "      <td>11.0</td>\n",
       "      <td>38481.0</td>\n",
       "      <td>3206.75</td>\n",
       "      <td>8.073013</td>\n",
       "      <td>15.0</td>\n",
       "      <td>225.0</td>\n",
       "    </tr>\n",
       "    <tr>\n",
       "      <th>1</th>\n",
       "      <td>2022</td>\n",
       "      <td>07</td>\n",
       "      <td>015012</td>\n",
       "      <td>019</td>\n",
       "      <td>11</td>\n",
       "      <td>02</td>\n",
       "      <td>010101</td>\n",
       "      <td>sierra norte</td>\n",
       "      <td>de 20 000 a 49 999 habitantes</td>\n",
       "      <td>20200150120191102</td>\n",
       "      <td>...</td>\n",
       "      <td>NaN</td>\n",
       "      <td>Matched (3)</td>\n",
       "      <td>Matched (3)</td>\n",
       "      <td>Mujer</td>\n",
       "      <td>6.0</td>\n",
       "      <td>17353.941</td>\n",
       "      <td>1446.1617</td>\n",
       "      <td>7.276668</td>\n",
       "      <td>23.0</td>\n",
       "      <td>529.0</td>\n",
       "    </tr>\n",
       "    <tr>\n",
       "      <th>2</th>\n",
       "      <td>2022</td>\n",
       "      <td>08</td>\n",
       "      <td>015002</td>\n",
       "      <td>002</td>\n",
       "      <td>11</td>\n",
       "      <td>04</td>\n",
       "      <td>010101</td>\n",
       "      <td>sierra norte</td>\n",
       "      <td>de 20 000 a 49 999 habitantes</td>\n",
       "      <td>20220150020021104</td>\n",
       "      <td>...</td>\n",
       "      <td>1.0</td>\n",
       "      <td>Matched (3)</td>\n",
       "      <td>Matched (3)</td>\n",
       "      <td>Varon</td>\n",
       "      <td>11.0</td>\n",
       "      <td>2404.0</td>\n",
       "      <td>200.33333</td>\n",
       "      <td>5.2999825</td>\n",
       "      <td>2.0</td>\n",
       "      <td>4.0</td>\n",
       "    </tr>\n",
       "    <tr>\n",
       "      <th>3</th>\n",
       "      <td>2022</td>\n",
       "      <td>03</td>\n",
       "      <td>015080</td>\n",
       "      <td>041</td>\n",
       "      <td>11</td>\n",
       "      <td>01</td>\n",
       "      <td>010101</td>\n",
       "      <td>sierra norte</td>\n",
       "      <td>area de empadronamiento rural (aer) simple</td>\n",
       "      <td>20220150800411101</td>\n",
       "      <td>...</td>\n",
       "      <td>NaN</td>\n",
       "      <td>Matched (3)</td>\n",
       "      <td>Matched (3)</td>\n",
       "      <td>Varon</td>\n",
       "      <td>11.0</td>\n",
       "      <td>12762.0</td>\n",
       "      <td>1063.5</td>\n",
       "      <td>6.969321</td>\n",
       "      <td>8.0</td>\n",
       "      <td>64.0</td>\n",
       "    </tr>\n",
       "  </tbody>\n",
       "</table>\n",
       "<p>4 rows × 1475 columns</p>\n",
       "</div>"
      ],
      "text/plain": [
       "    aÑo mes conglome vivienda hogar codperso  ubigeo       dominio  \\\n",
       "0  2022  10   015015      092    11       01  010101  sierra norte   \n",
       "1  2022  07   015012      019    11       02  010101  sierra norte   \n",
       "2  2022  08   015002      002    11       04  010101  sierra norte   \n",
       "3  2022  03   015080      041    11       01  010101  sierra norte   \n",
       "\n",
       "                                       estrato              p201p  ... p301b3  \\\n",
       "0                de 20 000 a 49 999 habitantes  20220150150921101  ...    NaN   \n",
       "1                de 20 000 a 49 999 habitantes  20200150120191102  ...    NaN   \n",
       "2                de 20 000 a 49 999 habitantes  20220150020021104  ...    1.0   \n",
       "3   area de empadronamiento rural (aer) simple  20220150800411101  ...    NaN   \n",
       "\n",
       "          m300        m3001   sexo  educ    ing_lab ing_lab_mensual  \\\n",
       "0  Matched (3)  Matched (3)  Varon  11.0    38481.0         3206.75   \n",
       "1  Matched (3)  Matched (3)  Mujer   6.0  17353.941       1446.1617   \n",
       "2  Matched (3)  Matched (3)  Varon  11.0     2404.0       200.33333   \n",
       "3  Matched (3)  Matched (3)  Varon  11.0    12762.0          1063.5   \n",
       "\n",
       "  ling_lab_mensual exper exper2  \n",
       "0         8.073013  15.0  225.0  \n",
       "1         7.276668  23.0  529.0  \n",
       "2        5.2999825   2.0    4.0  \n",
       "3         6.969321   8.0   64.0  \n",
       "\n",
       "[4 rows x 1475 columns]"
      ]
     },
     "execution_count": 3,
     "metadata": {},
     "output_type": "execute_result"
    }
   ],
   "source": [
    "df_enaho2022=pd.read_csv('c:/Users/Lenovo/Documents/CURSOS/Machine_Learning_Tutorial/00_Data/enaho2022.csv',sep=\",\",dtype=str)\n",
    "df_enaho2022.head(4)"
   ]
  },
  {
   "cell_type": "code",
   "execution_count": 10,
   "metadata": {},
   "outputs": [
    {
     "data": {
      "text/plain": [
       "{object: ['aÑo', 'mes', 'conglome', 'vivienda', 'hogar', 'codperso', 'ubigeo', 'dominio', 'estrato', 'p201p', 'p203', 'p203a', 'p203b', 'p204', 'p205', 'p206', 'p207', 'edad', 'p208b', 'p209', 'p210', 'p211a', 'p211d', 'p212', 'p213', 'p214', 'p215', 'p216', 'p217', 't211', 'ocupac_r3', 'ocupac_r4', 'rama_r3', 'rama_r4', 'codtarea', 'codtiempo', 'ticuest01', 'facpob07', 'nconglome', 'sub_conglome', 'codinfor', 'p500a', 'p500b', 'p500b1', 'p500c', 'p500d', 'p500d1', 'p500n', 'p500i', 'p501', 'p502', 'p503', 'p504', 'p5041', 'p5042', 'p5043', 'p5044', 'p5045', 'p5046', 'p5047', 'p5048', 'p5049', 'p50410', 'p50411', 'p504a', 'p504b', 'p505', 'p505r4', 'p505b', 'p506', 'p506r4', 'p507', 'p508', 'p509', 'p510', 'p510a1', 'p510b', 'p5111', 'p5112', 'p5113', 'p5114', 'p5115', 'p5116', 'p5117', 'p5118', 'p5119', 'p51110', 'p51111', 'p51112', 'p511a', 'p512a', 'p512b', 'p513', 'p513a', 'p513b', 'p513c', 'p513d', 'p513e', 'p513f', 'p513g', ...]}"
      ]
     },
     "execution_count": 10,
     "metadata": {},
     "output_type": "execute_result"
    }
   ],
   "source": [
    "# Viendo las variables por tipo de datos\n",
    "tipos = df_enaho2022.columns.to_series().groupby(df_enaho2022.dtypes).groups\n",
    "tipos"
   ]
  },
  {
   "cell_type": "code",
   "execution_count": 7,
   "metadata": {},
   "outputs": [
    {
     "name": "stdout",
     "output_type": "stream",
     "text": [
      "<class 'pandas.core.frame.DataFrame'>\n",
      "RangeIndex: 53231 entries, 0 to 53230\n",
      "Columns: 1475 entries, aÑo to exper2\n",
      "dtypes: object(1475)\n",
      "memory usage: 599.0+ MB\n"
     ]
    }
   ],
   "source": [
    "df_enaho2022.info()"
   ]
  },
  {
   "cell_type": "code",
   "execution_count": 9,
   "metadata": {},
   "outputs": [
    {
     "data": {
      "text/html": [
       "<div>\n",
       "<style scoped>\n",
       "    .dataframe tbody tr th:only-of-type {\n",
       "        vertical-align: middle;\n",
       "    }\n",
       "\n",
       "    .dataframe tbody tr th {\n",
       "        vertical-align: top;\n",
       "    }\n",
       "\n",
       "    .dataframe thead th {\n",
       "        text-align: right;\n",
       "    }\n",
       "</style>\n",
       "<table border=\"1\" class=\"dataframe\">\n",
       "  <thead>\n",
       "    <tr style=\"text-align: right;\">\n",
       "      <th></th>\n",
       "      <th>mes</th>\n",
       "    </tr>\n",
       "  </thead>\n",
       "  <tbody>\n",
       "    <tr>\n",
       "      <th>0</th>\n",
       "      <td>10</td>\n",
       "    </tr>\n",
       "    <tr>\n",
       "      <th>1</th>\n",
       "      <td>07</td>\n",
       "    </tr>\n",
       "    <tr>\n",
       "      <th>2</th>\n",
       "      <td>08</td>\n",
       "    </tr>\n",
       "    <tr>\n",
       "      <th>3</th>\n",
       "      <td>03</td>\n",
       "    </tr>\n",
       "    <tr>\n",
       "      <th>4</th>\n",
       "      <td>11</td>\n",
       "    </tr>\n",
       "  </tbody>\n",
       "</table>\n",
       "</div>"
      ],
      "text/plain": [
       "  mes\n",
       "0  10\n",
       "1  07\n",
       "2  08\n",
       "3  03\n",
       "4  11"
      ]
     },
     "execution_count": 9,
     "metadata": {},
     "output_type": "execute_result"
    }
   ],
   "source": [
    "df_mincer=df_enaho2022[[\"mes\",]]\n",
    "df_mincer.head()"
   ]
  },
  {
   "cell_type": "code",
   "execution_count": null,
   "metadata": {},
   "outputs": [],
   "source": []
  }
 ],
 "metadata": {
  "kernelspec": {
   "display_name": "Python 3",
   "language": "python",
   "name": "python3"
  },
  "language_info": {
   "codemirror_mode": {
    "name": "ipython",
    "version": 3
   },
   "file_extension": ".py",
   "mimetype": "text/x-python",
   "name": "python",
   "nbconvert_exporter": "python",
   "pygments_lexer": "ipython3",
   "version": "3.7.8"
  },
  "orig_nbformat": 4
 },
 "nbformat": 4,
 "nbformat_minor": 2
}
